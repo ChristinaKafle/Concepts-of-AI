{
  "nbformat": 4,
  "nbformat_minor": 0,
  "metadata": {
    "colab": {
      "provenance": []
    },
    "kernelspec": {
      "name": "python3",
      "display_name": "Python 3"
    },
    "language_info": {
      "name": "python"
    }
  },
  "cells": [
    {
      "cell_type": "code",
      "execution_count": null,
      "metadata": {
        "id": "Ve4ZBWyhLyYl",
        "colab": {
          "base_uri": "https://localhost:8080/"
        },
        "outputId": "9b7c88e3-b913-4683-bbd0-074a5215d0c0"
      },
      "outputs": [
        {
          "output_type": "stream",
          "name": "stdout",
          "text": [
            "      Fare\n",
            "0   7.2500\n",
            "1  71.2833\n",
            "2   7.9250\n",
            "3  53.1000\n",
            "4   8.0500\n",
            "\n",
            "    Pclass   Age\n",
            "0       3  22.0\n",
            "1       1  38.0\n",
            "2       3  26.0\n",
            "3       1  35.0\n",
            "4       3  35.0\n",
            "\n",
            "    Survived     Sex\n",
            "0         0    male\n",
            "1         1  female\n",
            "2         1  female\n",
            "3         1  female\n",
            "4         0    male\n"
          ]
        }
      ],
      "source": [
        "# Problem 1 - Sorting:\n",
        "import pandas as pd\n",
        "titanic = pd.read_csv(\"/content/drive/MyDrive/Concepts of AI/Datasets/Titanic-Dataset.csv\")\n",
        "\n",
        "# 1\n",
        "fare = titanic[['Fare']]\n",
        "print(fare.head())\n",
        "\n",
        "# 2\n",
        "class_age = titanic[['Pclass', 'Age']]\n",
        "print(\"\\n\",class_age.head())\n",
        "\n",
        "# 3\n",
        "survived_gender = titanic[['Survived', 'Sex']]\n",
        "print(\"\\n\",survived_gender.head())\n"
      ]
    },
    {
      "cell_type": "code",
      "source": [
        "#Problem - 2 - Subsetting:\n",
        "# Subsetting Rows:\n",
        "import pandas as pd\n",
        "\n",
        "# Load the Titanic dataset\n",
        "titanic = pd.read_csv(\"/content/drive/MyDrive/Concepts of AI/Datasets/Titanic-Dataset.csv\")\n",
        "\n",
        "# 1\n",
        "fare_gt_100 = titanic[titanic['Fare'] > 100][['Name', 'Fare', 'Pclass']]\n",
        "print(\"Passengers with Fare > 100:\")\n",
        "print(fare_gt_100)\n",
        "\n",
        "# 2\n",
        "first_class = titanic[titanic['Pclass'] == 1][['Name', 'Pclass', 'Age']]\n",
        "print(\"\\nPassengers in First Class (Pclass = 1):\")\n",
        "print(first_class)\n",
        "\n",
        "# 3\n",
        "female_under_18 = titanic[(titanic['Age'] < 18) & (titanic['Sex'] == 'female')][['Name', 'Age', 'Sex']]\n",
        "print(\"\\nFemale passengers under 18:\")\n",
        "print(female_under_18)\n",
        "\n"
      ],
      "metadata": {
        "colab": {
          "base_uri": "https://localhost:8080/"
        },
        "id": "s6jqFvUZNlpS",
        "outputId": "195b087b-00bb-47f9-9d26-607d8dbafd5a"
      },
      "execution_count": null,
      "outputs": [
        {
          "output_type": "stream",
          "name": "stdout",
          "text": [
            "Passengers with Fare > 100:\n",
            "                                                  Name      Fare  Pclass\n",
            "27                      Fortune, Mr. Charles Alexander  263.0000       1\n",
            "31      Spencer, Mrs. William Augustus (Marie Eugenie)  146.5208       1\n",
            "88                          Fortune, Miss. Mabel Helen  263.0000       1\n",
            "118                           Baxter, Mr. Quigg Edmond  247.5208       1\n",
            "195                               Lurette, Miss. Elise  146.5208       1\n",
            "215                            Newell, Miss. Madeleine  113.2750       1\n",
            "258                                   Ward, Miss. Anna  512.3292       1\n",
            "268      Graham, Mrs. William Thompson (Edith Junkins)  153.4625       1\n",
            "269                             Bissette, Miss. Amelia  135.6333       1\n",
            "297                       Allison, Miss. Helen Loraine  151.5500       1\n",
            "299    Baxter, Mrs. James (Helene DeLaudeniere Chaput)  247.5208       1\n",
            "305                     Allison, Master. Hudson Trevor  151.5500       1\n",
            "306                            Fleming, Miss. Margaret  110.8833       1\n",
            "307  Penasco y Castellana, Mrs. Victor de Satode (M...  108.9000       1\n",
            "311                         Ryerson, Miss. Emily Borie  262.3750       1\n",
            "318                           Wick, Miss. Mary Natalie  164.8667       1\n",
            "319  Spedden, Mrs. Frederic Oakley (Margaretta Corn...  134.5000       1\n",
            "325                           Young, Miss. Marie Grice  135.6333       1\n",
            "332                          Graham, Mr. George Edward  153.4625       1\n",
            "334  Frauenthal, Mrs. Henry William (Clara Heinshei...  133.6500       1\n",
            "337                    Burns, Miss. Elizabeth Margaret  134.5000       1\n",
            "341                     Fortune, Miss. Alice Elizabeth  263.0000       1\n",
            "373                                Ringhini, Mr. Sante  135.6333       1\n",
            "377                          Widener, Mr. Harry Elkins  211.5000       1\n",
            "380                              Bidois, Miss. Rosalie  227.5250       1\n",
            "390                         Carter, Mr. William Ernest  120.0000       1\n",
            "393                             Newell, Miss. Marjorie  113.2750       1\n",
            "435                          Carter, Miss. Lucile Polk  120.0000       1\n",
            "438                                  Fortune, Mr. Mark  263.0000       1\n",
            "498    Allison, Mrs. Hudson J C (Bessie Waldo Daniels)  151.5500       1\n",
            "505         Penasco y Castellana, Mr. Victor de Satode  108.9000       1\n",
            "527                                 Farthing, Mr. John  221.7792       1\n",
            "537                                LeRoy, Miss. Bertha  106.4250       1\n",
            "544                         Douglas, Mr. Walter Donald  106.4250       1\n",
            "550                        Thayer, Mr. John Borland Jr  110.8833       1\n",
            "557                                Robbins, Mr. Victor  227.5250       1\n",
            "581  Thayer, Mrs. John Borland (Marian Longstreth M...  110.8833       1\n",
            "609                          Shutes, Miss. Elizabeth W  153.4625       1\n",
            "659                         Newell, Mr. Arthur Webster  113.2750       1\n",
            "660                      Frauenthal, Dr. Henry William  133.6500       1\n",
            "679                 Cardeza, Mr. Thomas Drake Martinez  512.3292       1\n",
            "689                  Madill, Miss. Georgette Alexandra  211.3375       1\n",
            "698                           Thayer, Mr. John Borland  110.8833       1\n",
            "700  Astor, Mrs. John Jacob (Madeleine Talmadge Force)  227.5250       1\n",
            "708                               Cleaver, Miss. Alice  151.5500       1\n",
            "716                      Endres, Miss. Caroline Louise  227.5250       1\n",
            "730                      Allen, Miss. Elisabeth Walton  211.3375       1\n",
            "737                             Lesurer, Mr. Gustave J  512.3292       1\n",
            "742              Ryerson, Miss. Susan Parker \"Suzette\"  262.3750       1\n",
            "763          Carter, Mrs. William Ernest (Lucile Polk)  120.0000       1\n",
            "779  Robert, Mrs. Edward Scott (Elisabeth Walton Mc...  211.3375       1\n",
            "802                Carter, Master. William Thornton II  120.0000       1\n",
            "856         Wick, Mrs. George Dennick (Mary Hitchcock)  164.8667       1\n",
            "\n",
            "Passengers in First Class (Pclass = 1):\n",
            "                                                  Name  Pclass   Age\n",
            "1    Cumings, Mrs. John Bradley (Florence Briggs Th...       1  38.0\n",
            "3         Futrelle, Mrs. Jacques Heath (Lily May Peel)       1  35.0\n",
            "6                              McCarthy, Mr. Timothy J       1  54.0\n",
            "11                            Bonnell, Miss. Elizabeth       1  58.0\n",
            "23                        Sloper, Mr. William Thompson       1  28.0\n",
            "..                                                 ...     ...   ...\n",
            "871   Beckwith, Mrs. Richard Leonard (Sallie Monypeny)       1  47.0\n",
            "872                           Carlsson, Mr. Frans Olof       1  33.0\n",
            "879      Potter, Mrs. Thomas Jr (Lily Alexenia Wilson)       1  56.0\n",
            "887                       Graham, Miss. Margaret Edith       1  19.0\n",
            "889                              Behr, Mr. Karl Howell       1  26.0\n",
            "\n",
            "[216 rows x 3 columns]\n",
            "\n",
            "Female passengers under 18:\n",
            "                                                  Name    Age     Sex\n",
            "9                  Nasser, Mrs. Nicholas (Adele Achem)  14.00  female\n",
            "10                     Sandstrom, Miss. Marguerite Rut   4.00  female\n",
            "14                Vestrom, Miss. Hulda Amanda Adolfina  14.00  female\n",
            "22                         McGowan, Miss. Anna \"Annie\"  15.00  female\n",
            "24                       Palsson, Miss. Torborg Danira   8.00  female\n",
            "39                         Nicola-Yarred, Miss. Jamila  14.00  female\n",
            "43            Laroche, Miss. Simonne Marie Anne Andree   3.00  female\n",
            "58                        West, Miss. Constance Mirium   5.00  female\n",
            "68                     Andersson, Miss. Erna Alexandra  17.00  female\n",
            "71                          Goodwin, Miss. Lillian Amy  16.00  female\n",
            "84                                 Ilett, Miss. Bertha  17.00  female\n",
            "111                               Zabour, Miss. Hileni  14.50  female\n",
            "114                              Attalah, Miss. Malake  17.00  female\n",
            "119                  Andersson, Miss. Ellis Anna Maria   2.00  female\n",
            "147                   Ford, Miss. Robina Maggie \"Ruby\"   9.00  female\n",
            "156                   Gilnagh, Miss. Katherine \"Katie\"  16.00  female\n",
            "172                       Johnson, Miss. Eleanor Ileen   1.00  female\n",
            "184                Kink-Heilmann, Miss. Luise Gretchen   4.00  female\n",
            "205                         Strom, Miss. Telma Matilda   2.00  female\n",
            "208                          Carr, Miss. Helen \"Ellen\"  16.00  female\n",
            "233                     Asplund, Miss. Lillian Gertrud   5.00  female\n",
            "237                   Collyer, Miss. Marjorie \"Lottie\"   8.00  female\n",
            "297                       Allison, Miss. Helen Loraine   2.00  female\n",
            "307  Penasco y Castellana, Mrs. Victor de Satode (M...  17.00  female\n",
            "329                       Hippach, Miss. Jean Gertrude  16.00  female\n",
            "374                         Palsson, Miss. Stina Viola   3.00  female\n",
            "381                        Nakid, Miss. Maria (\"Mary\")   1.00  female\n",
            "389                              Lehmann, Miss. Bertha  17.00  female\n",
            "419                          Van Impe, Miss. Catharina  10.00  female\n",
            "435                          Carter, Miss. Lucile Polk  14.00  female\n",
            "446                  Mellinger, Miss. Madeleine Violet  13.00  female\n",
            "448                     Baclini, Miss. Marie Catherine   5.00  female\n",
            "469                      Baclini, Miss. Helene Barbara   0.75  female\n",
            "479                           Hirvonen, Miss. Hildur E   2.00  female\n",
            "504                              Maioni, Miss. Roberta  16.00  female\n",
            "530                           Quick, Miss. Phyllis May   2.00  female\n",
            "535                             Hart, Miss. Eva Miriam   7.00  female\n",
            "541               Andersson, Miss. Ingeborg Constanzia   9.00  female\n",
            "542                  Andersson, Miss. Sigrid Elisabeth  11.00  female\n",
            "618                        Becker, Miss. Marion Louise   4.00  female\n",
            "634                                 Skoog, Miss. Mabel   9.00  female\n",
            "642                      Skoog, Miss. Margit Elizabeth   2.00  female\n",
            "644                             Baclini, Miss. Eugenie   0.75  female\n",
            "689                  Madill, Miss. Georgette Alexandra  15.00  female\n",
            "691                                 Karun, Miss. Manca   4.00  female\n",
            "720                  Harper, Miss. Annie Jessie \"Nina\"   6.00  female\n",
            "750                                  Wells, Miss. Joan   4.00  female\n",
            "777                      Emanuel, Miss. Virginia Ethel   5.00  female\n",
            "780                               Ayoub, Miss. Banoura  13.00  female\n",
            "781          Dick, Mrs. Albert Adrian (Vera Gillespie)  17.00  female\n",
            "813                 Andersson, Miss. Ebba Iris Alfrida   6.00  female\n",
            "830            Yasbeck, Mrs. Antoni (Selini Alexander)  15.00  female\n",
            "852                            Boulos, Miss. Nourelain   9.00  female\n",
            "853                          Lines, Miss. Mary Conover  16.00  female\n",
            "875                   Najib, Miss. Adele Kiamie \"Jane\"  15.00  female\n"
          ]
        }
      ]
    },
    {
      "cell_type": "code",
      "source": [
        "# Subsetting Rows by Categorical variables:\n",
        "import pandas as pd\n",
        "titanic = pd.read_csv(\"/content/drive/MyDrive/Concepts of AI/Datasets/Titanic-Dataset.csv\")\n",
        "\n",
        "# 1\n",
        "embarked_c_or_s = titanic[titanic['Embarked'].isin(['C', 'S'])][['Name', 'Embarked', 'Pclass']]\n",
        "print(\"Passengers who Embarked at 'C' or 'S':\")\n",
        "print(embarked_c_or_s)\n",
        "\n",
        "# 2\n",
        "first_second_class = titanic[titanic['Pclass'].isin([1, 2])][['Name', 'Pclass', 'Age']]\n",
        "print(\"\\nPassengers in First or Second Class (Pclass = 1 or 2):\")\n",
        "print(first_second_class)\n"
      ],
      "metadata": {
        "colab": {
          "base_uri": "https://localhost:8080/"
        },
        "id": "56aW8HIaO3lB",
        "outputId": "9094484c-ae37-4035-da51-05c721a21c15"
      },
      "execution_count": null,
      "outputs": [
        {
          "output_type": "stream",
          "name": "stdout",
          "text": [
            "Passengers who Embarked at 'C' or 'S':\n",
            "                                                  Name Embarked  Pclass\n",
            "0                              Braund, Mr. Owen Harris        S       3\n",
            "1    Cumings, Mrs. John Bradley (Florence Briggs Th...        C       1\n",
            "2                               Heikkinen, Miss. Laina        S       3\n",
            "3         Futrelle, Mrs. Jacques Heath (Lily May Peel)        S       1\n",
            "4                             Allen, Mr. William Henry        S       3\n",
            "..                                                 ...      ...     ...\n",
            "884                             Sutehall, Mr. Henry Jr        S       3\n",
            "886                              Montvila, Rev. Juozas        S       2\n",
            "887                       Graham, Miss. Margaret Edith        S       1\n",
            "888           Johnston, Miss. Catherine Helen \"Carrie\"        S       3\n",
            "889                              Behr, Mr. Karl Howell        C       1\n",
            "\n",
            "[812 rows x 3 columns]\n",
            "\n",
            "Passengers in First or Second Class (Pclass = 1 or 2):\n",
            "                                                  Name  Pclass   Age\n",
            "1    Cumings, Mrs. John Bradley (Florence Briggs Th...       1  38.0\n",
            "3         Futrelle, Mrs. Jacques Heath (Lily May Peel)       1  35.0\n",
            "6                              McCarthy, Mr. Timothy J       1  54.0\n",
            "9                  Nasser, Mrs. Nicholas (Adele Achem)       2  14.0\n",
            "11                            Bonnell, Miss. Elizabeth       1  58.0\n",
            "..                                                 ...     ...   ...\n",
            "880       Shelley, Mrs. William (Imanita Parrish Hall)       2  25.0\n",
            "883                      Banfield, Mr. Frederick James       2  28.0\n",
            "886                              Montvila, Rev. Juozas       2  27.0\n",
            "887                       Graham, Miss. Margaret Edith       1  19.0\n",
            "889                              Behr, Mr. Karl Howell       1  26.0\n",
            "\n",
            "[400 rows x 3 columns]\n"
          ]
        }
      ]
    },
    {
      "cell_type": "code",
      "source": [
        "# 3.2 Exploratory Data Analysis Practice Exercise\n",
        "# Which passenger had the highest fare paid relative to their age?\n",
        "import pandas as pd\n",
        "titanic = pd.read_csv(\"/content/drive/MyDrive/Concepts of AI/Datasets/Titanic-Dataset.csv\")\n",
        "\n",
        "# 1\n",
        "titanic['fare_per_year'] = titanic['Fare'] / titanic['Age']\n",
        "titanic['fare_per_year'] = titanic['fare_per_year'].fillna(0)\n",
        "\n",
        "# 2\n",
        "high_fare_age = titanic[titanic['fare_per_year'] > 5]\n",
        "\n",
        "# 3\n",
        "high_fare_age_srt = high_fare_age.sort_values(by='fare_per_year', ascending=False)\n",
        "\n",
        "# 4\n",
        "result = high_fare_age_srt[['Name', 'fare_per_year']]\n",
        "\n",
        "# 5\n",
        "print(result)\n"
      ],
      "metadata": {
        "colab": {
          "base_uri": "https://localhost:8080/"
        },
        "id": "UjO5nJVnPZFH",
        "outputId": "41ea2788-240b-477e-9d63-ba00c01cffbb"
      },
      "execution_count": null,
      "outputs": [
        {
          "output_type": "stream",
          "name": "stdout",
          "text": [
            "                                       Name  fare_per_year\n",
            "305          Allison, Master. Hudson Trevor     164.728261\n",
            "297            Allison, Miss. Helen Loraine      75.775000\n",
            "386         Goodwin, Master. Sidney Leonard      46.900000\n",
            "164            Panula, Master. Eino Viljami      39.687500\n",
            "183               Becker, Master. Richard F      39.000000\n",
            "..                                      ...            ...\n",
            "318                Wick, Miss. Mary Natalie       5.318281\n",
            "348  Coutts, Master. William Loch \"William\"       5.300000\n",
            "205              Strom, Miss. Telma Matilda       5.231250\n",
            "813      Andersson, Miss. Ebba Iris Alfrida       5.212500\n",
            "480          Goodwin, Master. Harold Victor       5.211111\n",
            "\n",
            "[68 rows x 2 columns]\n"
          ]
        }
      ]
    },
    {
      "cell_type": "code",
      "source": [
        "# Which adult male passenger (age ≥ 18 and Sex is ’male’) paid the highest fare relative to their class?\n",
        "import pandas as pd\n",
        "titanic = pd.read_csv(\"/content/drive/MyDrive/Concepts of AI/Datasets/Titanic-Dataset.csv\")\n",
        "\n",
        "# 1\n",
        "titanic['fare_per_class'] = titanic['Fare'] / titanic['Pclass']\n",
        "\n",
        "# 2\n",
        "adult_males = titanic[(titanic['Sex'] == 'male') & (titanic['Age'] >= 18)]\n",
        "\n",
        "# 3\n",
        "adult_males_srt = adult_males.sort_values(by='fare_per_class', ascending=False)\n",
        "\n",
        "# 4\n",
        "result = adult_males_srt[['Name', 'Age', 'fare_per_class']]\n",
        "\n",
        "# 5\n",
        "print(result)\n"
      ],
      "metadata": {
        "colab": {
          "base_uri": "https://localhost:8080/"
        },
        "id": "RlaFyZCzQvZe",
        "outputId": "4e114f3c-e42b-411e-b443-0b0bf5eff057"
      },
      "execution_count": null,
      "outputs": [
        {
          "output_type": "stream",
          "name": "stdout",
          "text": [
            "                                   Name   Age  fare_per_class\n",
            "737              Lesurer, Mr. Gustave J  35.0        512.3292\n",
            "679  Cardeza, Mr. Thomas Drake Martinez  36.0        512.3292\n",
            "27       Fortune, Mr. Charles Alexander  19.0        263.0000\n",
            "438                   Fortune, Mr. Mark  64.0        263.0000\n",
            "118            Baxter, Mr. Quigg Edmond  24.0        247.5208\n",
            "..                                  ...   ...             ...\n",
            "271        Tornquist, Mr. William Henry  25.0          0.0000\n",
            "179                 Leonard, Mr. Lionel  36.0          0.0000\n",
            "302     Johnson, Mr. William Cahoone Jr  19.0          0.0000\n",
            "822     Reuchlin, Jonkheer. John George  38.0          0.0000\n",
            "806              Andrews, Mr. Thomas Jr  39.0          0.0000\n",
            "\n",
            "[395 rows x 3 columns]\n"
          ]
        }
      ]
    },
    {
      "cell_type": "code",
      "source": [
        "# 3.3 Exploratory Data Analysis with Group-by Method Practice Exercise:\n",
        "# What percent of the total fare revenue came from each passenger class?\n",
        "import pandas as pd\n",
        "titanic = pd.read_csv(\"/content/drive/MyDrive/Concepts of AI/Datasets/Titanic-Dataset.csv\")\n",
        "\n",
        "# 1\n",
        "total_fare = titanic['Fare'].sum()\n",
        "print(f\"Total Fare: {total_fare}\")\n",
        "\n",
        "# 2\n",
        "first_class_fare = titanic[titanic['Pclass'] == 1]['Fare'].sum()\n",
        "print(f\"Total Fare for First Class: {first_class_fare}\")\n",
        "\n",
        "# 3\n",
        "second_class_fare = titanic[titanic['Pclass'] == 2]['Fare'].sum()\n",
        "print(f\"Total Fare for Second Class: {second_class_fare}\")\n",
        "\n",
        "third_class_fare = titanic[titanic['Pclass'] == 3]['Fare'].sum()\n",
        "print(f\"Total Fare for Third Class: {third_class_fare}\")\n",
        "\n",
        "# 4\n",
        "fare_totals = [first_class_fare, second_class_fare, third_class_fare]\n",
        "print(f\"Fare Totals by Class: {fare_totals}\")\n",
        "\n",
        "# 5\n",
        "fare_proportions = [fare / total_fare for fare in fare_totals]\n",
        "print(f\"Fare Revenue Proportions by Class: {fare_proportions}\")\n"
      ],
      "metadata": {
        "colab": {
          "base_uri": "https://localhost:8080/"
        },
        "id": "sTwaAjZSRbRR",
        "outputId": "58f9e91c-652b-4c6b-f047-17bebba4ad39"
      },
      "execution_count": null,
      "outputs": [
        {
          "output_type": "stream",
          "name": "stdout",
          "text": [
            "Total Fare: 28693.9493\n",
            "Total Fare for First Class: 18177.4125\n",
            "Total Fare for Second Class: 3801.8417\n",
            "Total Fare for Third Class: 6714.6951\n",
            "Fare Totals by Class: [18177.4125, 3801.8417, 6714.6951]\n",
            "Fare Revenue Proportions by Class: [0.6334928771899656, 0.1324962855496507, 0.23401083726038366]\n"
          ]
        }
      ]
    },
    {
      "cell_type": "code",
      "source": [
        "# What percent of the total number of passengers on the Titanic belonged to each age group (e.g., child, adult, senior)?\n",
        "import pandas as pd\n",
        "titanic = pd.read_csv(\"/content/drive/MyDrive/Concepts of AI/Datasets/Titanic-Dataset.csv\")\n",
        "\n",
        "# 1\n",
        "titanic['age_group'] = pd.cut(\n",
        "    titanic['Age'],\n",
        "    bins=[-float('inf'), 18, 64, float('inf')],\n",
        "    labels=['child', 'adult', 'senior']\n",
        ")\n",
        "\n",
        "# 2\n",
        "total_passengers = len(titanic)\n",
        "print(f\"Total number of passengers: {total_passengers}\")\n",
        "\n",
        "# 3\n",
        "age_group_counts = titanic['age_group'].value_counts()\n",
        "print(f\"\\nPassenger counts by age group:\\n{age_group_counts}\")\n",
        "\n",
        "# 4\n",
        "age_group_proportions = (age_group_counts / total_passengers) * 100\n",
        "\n",
        "# 5\n",
        "print(f\"\\nPassenger proportions by age group (%):\\n{age_group_proportions}\")\n"
      ],
      "metadata": {
        "colab": {
          "base_uri": "https://localhost:8080/"
        },
        "id": "v36rc1AyR5_6",
        "outputId": "9cda96af-337e-47ea-d1fb-2d0512633817"
      },
      "execution_count": null,
      "outputs": [
        {
          "output_type": "stream",
          "name": "stdout",
          "text": [
            "Total number of passengers: 891\n",
            "\n",
            "Passenger counts by age group:\n",
            "age_group\n",
            "adult     564\n",
            "child     139\n",
            "senior     11\n",
            "Name: count, dtype: int64\n",
            "\n",
            "Passenger proportions by age group (%):\n",
            "age_group\n",
            "adult     63.299663\n",
            "child     15.600449\n",
            "senior     1.234568\n",
            "Name: count, dtype: float64\n"
          ]
        }
      ]
    }
  ]
}